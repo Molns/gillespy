{
 "metadata": {
  "name": "",
  "signature": "sha256:8092b5ad6954079ae256c47028be613b8e91d6104e5aa50d558869b7c69a6383"
 },
 "nbformat": 3,
 "nbformat_minor": 0,
 "worksheets": [
  {
   "cells": [
    {
     "cell_type": "code",
     "collapsed": false,
     "input": [
      "import sys,os\n",
      "sys.path[:0] = ['..']"
     ],
     "language": "python",
     "metadata": {},
     "outputs": [],
     "prompt_number": 1
    },
    {
     "cell_type": "code",
     "collapsed": false,
     "input": [
      "import gillespy\n",
      "class ToggleSwitch(gillespy.Model):\n",
      "    \"\"\" Gardner et al. Nature (1999)\n",
      "    'Construction of a genetic toggle switch in Escherichia coli'\n",
      "    \"\"\"\n",
      "    def __init__(self, parameter_values=None):\n",
      "        # Initialize the model.\n",
      "        gillespy.Model.__init__(self, name=\"toggle_switch\")\n",
      "        # Parameters\n",
      "        alpha1 = gillespy.Parameter(name='alpha1', expression=1)\n",
      "        alpha2 = gillespy.Parameter(name='alpha2', expression=1)\n",
      "        beta = gillespy.Parameter(name='beta', expression=\"2.0\")\n",
      "        gamma = gillespy.Parameter(name='gamma', expression=\"2.0\")\n",
      "        mu = gillespy.Parameter(name='mu', expression=1.0)\n",
      "        self.add_parameter([alpha1, alpha2, beta, gamma, mu])\n",
      "\n",
      "        # Species\n",
      "        U = gillespy.Species(name='U', initial_value=10)\n",
      "        V = gillespy.Species(name='V', initial_value=10)\n",
      "        self.add_species([U, V])\n",
      "\n",
      "        # Reactions\n",
      "        cu = gillespy.Reaction(name=\"r1\",reactants={}, products={U:1},\n",
      "                propensity_function=\"alpha1/(1+pow(V,beta))\")\n",
      "        cv = gillespy.Reaction(name=\"r2\",reactants={}, products={V:1},\n",
      "                propensity_function=\"alpha2/(1+pow(U,gamma))\")\n",
      "        du = gillespy.Reaction(name=\"r3\",reactants={U:1}, products={},\n",
      "                rate=mu)\n",
      "        dv = gillespy.Reaction(name=\"r4\",reactants={V:1}, products={},\n",
      "                rate=mu)\n",
      "        self.add_reaction([cu,cv,du,dv])\n",
      "        self.timespan(numpy.linspace(0,100,101))"
     ],
     "language": "python",
     "metadata": {},
     "outputs": [],
     "prompt_number": 2
    },
    {
     "cell_type": "code",
     "collapsed": false,
     "input": [
      "model = ToggleSwitch()"
     ],
     "language": "python",
     "metadata": {},
     "outputs": [],
     "prompt_number": 3
    },
    {
     "cell_type": "code",
     "collapsed": false,
     "input": [
      "results = model.run(stochkit_home=\"/Applications/StochSS-1.6/StochSSserver.app/Contents/Resources/StochKit/\")"
     ],
     "language": "python",
     "metadata": {},
     "outputs": [],
     "prompt_number": 4
    },
    {
     "cell_type": "code",
     "collapsed": false,
     "input": [
      "dresults = model.run(solver=gillespy.StochKitODESolver, stochkit_home=\"/Applications/StochSS-1.6/StochSSserver.app/Contents/Resources/ode/\")"
     ],
     "language": "python",
     "metadata": {},
     "outputs": [],
     "prompt_number": 6
    },
    {
     "cell_type": "code",
     "collapsed": false,
     "input": [
      "plt.plot(results[0][:,0],results[0][:,1],'-r', label='U')\n",
      "plt.plot(results[0][:,0],results[0][:,2],'-b', label='V')\n",
      "plt.plot([0],[11])\n",
      "plt.legend(loc='best')"
     ],
     "language": "python",
     "metadata": {},
     "outputs": [
      {
       "metadata": {},
       "output_type": "pyout",
       "prompt_number": 10,
       "text": [
        "<matplotlib.legend.Legend at 0x1068dd9d0>"
       ]
      },
      {
       "metadata": {},
       "output_type": "display_data",
       "png": "[encoded data removed]",
       "text": [
        "<matplotlib.figure.Figure at 0x105a93090>"
       ]
      }
     ],
     "prompt_number": 10
    },
    {
     "cell_type": "code",
     "collapsed": false,
     "input": [
      "plt.plot(dresults[0][:,0],dresults[0][:,1],'-r', label='U')\n",
      "plt.plot(dresults[0][:,0],dresults[0][:,2],'-b', label='V')\n",
      "plt.plot([0],[11])\n",
      "plt.legend(loc='best')"
     ],
     "language": "python",
     "metadata": {},
     "outputs": [
      {
       "metadata": {},
       "output_type": "pyout",
       "prompt_number": 11,
       "text": [
        "<matplotlib.legend.Legend at 0x10697f650>"
       ]
      },
      {
       "metadata": {},
       "output_type": "display_data",
       "png": "[encoded data removed]",
       "text": [
        "<matplotlib.figure.Figure at 0x105a93050>"
       ]
      }
     ],
     "prompt_number": 11
    },
    {
     "cell_type": "code",
     "collapsed": false,
     "input": [],
     "language": "python",
     "metadata": {},
     "outputs": []
    }
   ],
   "metadata": {}
  }
 ]
}